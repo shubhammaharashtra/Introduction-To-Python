{
  "nbformat": 4,
  "nbformat_minor": 0,
  "metadata": {
    "colab": {
      "name": "If logic.ipynb",
      "provenance": []
    },
    "kernelspec": {
      "name": "python3",
      "display_name": "Python 3"
    },
    "language_info": {
      "name": "python"
    }
  },
  "cells": [
    {
      "cell_type": "code",
      "execution_count": 1,
      "metadata": {
        "id": "u0gJ-YMc1Lss"
      },
      "outputs": [],
      "source": [
        "x=10"
      ]
    },
    {
      "cell_type": "code",
      "source": [
        "if x>10:\n",
        "  print(\"x is > than 10\")\n",
        "if x<10:\n",
        "  print(\"x is < than 10\")\n",
        "if x==10:\n",
        "  print(\"x is = 10\")\n",
        "  \n",
        "\n",
        "  "
      ],
      "metadata": {
        "colab": {
          "base_uri": "https://localhost:8080/"
        },
        "id": "SiFphlRe1R7L",
        "outputId": "8d4a5997-5733-4028-ceb5-2435c89c9073"
      },
      "execution_count": 2,
      "outputs": [
        {
          "output_type": "stream",
          "name": "stdout",
          "text": [
            "x is = 10\n"
          ]
        }
      ]
    },
    {
      "cell_type": "code",
      "source": [
        "x=int(input(\"enter a name\"))\n",
        "if x==80:\n",
        "  print(\"equal\")\n",
        "if x>80:\n",
        "  print(\"pass\")\n",
        "if x<80:\n",
        "  print(\"fail\")\n",
        "  \n"
      ],
      "metadata": {
        "colab": {
          "base_uri": "https://localhost:8080/"
        },
        "id": "K4_qis5-8T0D",
        "outputId": "37a1e95f-fe34-4cd9-83d0-ccce5c3517ba"
      },
      "execution_count": 3,
      "outputs": [
        {
          "output_type": "stream",
          "name": "stdout",
          "text": [
            "enter a name95\n",
            "pass\n"
          ]
        }
      ]
    },
    {
      "cell_type": "code",
      "source": [
        "x=int(input(\"enter your salary:\"))\n",
        "if x<250000:\n",
        "  print(\"you are not taxable\")\n",
        "if x>250000:\n",
        "  print(x*10/100)\n",
        "  print(\"you are taxable\")\n"
      ],
      "metadata": {
        "colab": {
          "base_uri": "https://localhost:8080/"
        },
        "id": "xX7Et9ENCU4e",
        "outputId": "693bf07b-7c09-4925-ce6c-0719f88c355c"
      },
      "execution_count": 4,
      "outputs": [
        {
          "output_type": "stream",
          "name": "stdout",
          "text": [
            "enter your salary:3000000\n",
            "300000.0\n",
            "you are taxable\n"
          ]
        }
      ]
    },
    {
      "cell_type": "code",
      "source": [
        ""
      ],
      "metadata": {
        "id": "c8nl6GP7FMiM"
      },
      "execution_count": 4,
      "outputs": []
    }
  ]
}